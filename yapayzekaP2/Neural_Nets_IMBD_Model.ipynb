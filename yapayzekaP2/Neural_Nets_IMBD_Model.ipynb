{
 "cells": [
  {
   "attachments": {},
   "cell_type": "markdown",
   "id": "34d6b148",
   "metadata": {},
   "source": [
    "#  Neural Network Project Homework\n"
   ]
  },
  {
   "attachments": {},
   "cell_type": "markdown",
   "id": "3c641e8d",
   "metadata": {},
   "source": [
    "**Students-Numbers:**\n",
    "\n",
    "- Sinem Akyüz  05190000073 <br>\n",
    "- Damla Karataş 05190000058 <br>\n",
    "- Mehmet Alper Tunga 05190000089<br>"
   ]
  },
  {
   "cell_type": "code",
   "execution_count": 1,
   "id": "e2afcf6c",
   "metadata": {},
   "outputs": [],
   "source": [
    "import numpy as np\n",
    "import pandas as pd\n",
    "import matplotlib.pyplot as plt \n",
    "import tensorflow as tf\n",
    "import os    \n",
    "os.environ['KMP_DUPLICATE_LIB_OK'] = 'True'  # my kernel dies sometimes this prevents it\n",
    "from timeit import default_timer as timer  #for checking run time\n",
    "from datetime import timedelta\n",
    "from tensorflow.keras.layers import Input, Dense, Embedding, LSTM, Dropout, Bidirectional, GlobalMaxPooling1D,GlobalMaxPooling2D\n",
    "from tensorflow.keras.models import Model\n",
    "from tensorflow.keras.optimizers import Adam\n",
    "from sklearn.model_selection import train_test_split\n",
    "from tensorflow.keras import callbacks\n",
    "from keras.callbacks import EarlyStopping\n",
    "from keras.optimizers import SGD\n",
    "from tensorflow.keras.layers import BatchNormalization\n",
    "from sklearn.model_selection import train_test_split\n",
    "import seaborn as sns\n",
    "%matplotlib inline\n",
    "import warnings\n",
    "warnings.filterwarnings(action='ignore', category=UserWarning)\n",
    "import re\n",
    "from keras.layers import concatenate\n",
    "import string\n",
    "import keras\n",
    "from tensorflow.keras import layers\n",
    "from keras import regularizers\n",
    "import visualkeras\n",
    "from PIL import ImageFont\n"
   ]
  },
  {
   "cell_type": "code",
   "execution_count": 5,
   "id": "3b19a0e3",
   "metadata": {},
   "outputs": [
    {
     "data": {
      "text/html": [
       "<div>\n",
       "<style scoped>\n",
       "    .dataframe tbody tr th:only-of-type {\n",
       "        vertical-align: middle;\n",
       "    }\n",
       "\n",
       "    .dataframe tbody tr th {\n",
       "        vertical-align: top;\n",
       "    }\n",
       "\n",
       "    .dataframe thead th {\n",
       "        text-align: right;\n",
       "    }\n",
       "</style>\n",
       "<table border=\"1\" class=\"dataframe\">\n",
       "  <thead>\n",
       "    <tr style=\"text-align: right;\">\n",
       "      <th></th>\n",
       "      <th>Movie Name</th>\n",
       "      <th>Year of Release</th>\n",
       "      <th>Watch Time</th>\n",
       "      <th>Movie Rating</th>\n",
       "      <th>Meatscore of movie</th>\n",
       "      <th>Votes</th>\n",
       "      <th>Gross</th>\n",
       "      <th>Description</th>\n",
       "      <th>Directors</th>\n",
       "      <th>Stars</th>\n",
       "      <th>...</th>\n",
       "      <th>Family</th>\n",
       "      <th>Mystery</th>\n",
       "      <th>Crime</th>\n",
       "      <th>Thriller</th>\n",
       "      <th>News</th>\n",
       "      <th>Biography</th>\n",
       "      <th>Drama</th>\n",
       "      <th>Fantasy</th>\n",
       "      <th>Western</th>\n",
       "      <th>Animation</th>\n",
       "    </tr>\n",
       "  </thead>\n",
       "  <tbody>\n",
       "    <tr>\n",
       "      <th>0</th>\n",
       "      <td>John Wick: Chapter 4</td>\n",
       "      <td>(2023)</td>\n",
       "      <td>169 min</td>\n",
       "      <td>8.0</td>\n",
       "      <td>78</td>\n",
       "      <td>197,340</td>\n",
       "      <td>%^%^%^</td>\n",
       "      <td>John Wick uncovers a path to defeating The Hig...</td>\n",
       "      <td>Chad Stahelski</td>\n",
       "      <td>Keanu Reeves, Laurence Fishburne, George Georg...</td>\n",
       "      <td>...</td>\n",
       "      <td>0</td>\n",
       "      <td>0</td>\n",
       "      <td>1</td>\n",
       "      <td>1</td>\n",
       "      <td>0</td>\n",
       "      <td>0</td>\n",
       "      <td>0</td>\n",
       "      <td>0</td>\n",
       "      <td>0</td>\n",
       "      <td>0</td>\n",
       "    </tr>\n",
       "    <tr>\n",
       "      <th>1</th>\n",
       "      <td>Dungeons &amp; Dragons: Honor Among Thieves</td>\n",
       "      <td>(2023)</td>\n",
       "      <td>134 min</td>\n",
       "      <td>7.3</td>\n",
       "      <td>72</td>\n",
       "      <td>124,542</td>\n",
       "      <td>%^%^%^</td>\n",
       "      <td>A charming thief and a band of unlikely advent...</td>\n",
       "      <td>John Francis Daley, Jonathan Goldstein</td>\n",
       "      <td>Chris Pine, Michelle Rodriguez, Regé-Jean Page...</td>\n",
       "      <td>...</td>\n",
       "      <td>0</td>\n",
       "      <td>0</td>\n",
       "      <td>0</td>\n",
       "      <td>0</td>\n",
       "      <td>0</td>\n",
       "      <td>0</td>\n",
       "      <td>0</td>\n",
       "      <td>0</td>\n",
       "      <td>0</td>\n",
       "      <td>0</td>\n",
       "    </tr>\n",
       "    <tr>\n",
       "      <th>2</th>\n",
       "      <td>The Super Mario Bros. Movie</td>\n",
       "      <td>(2023)</td>\n",
       "      <td>92 min</td>\n",
       "      <td>7.2</td>\n",
       "      <td>46</td>\n",
       "      <td>136,183</td>\n",
       "      <td>%^%^%^</td>\n",
       "      <td>A plumber named Mario travels through an under...</td>\n",
       "      <td>Aaron Horvath, Michael Jelenic, Pierre Leduc, ...</td>\n",
       "      <td>Chris Pratt, Anya Taylor-Joy, Charlie Day, Jac...</td>\n",
       "      <td>...</td>\n",
       "      <td>0</td>\n",
       "      <td>0</td>\n",
       "      <td>0</td>\n",
       "      <td>0</td>\n",
       "      <td>0</td>\n",
       "      <td>0</td>\n",
       "      <td>0</td>\n",
       "      <td>0</td>\n",
       "      <td>0</td>\n",
       "      <td>1</td>\n",
       "    </tr>\n",
       "    <tr>\n",
       "      <th>3</th>\n",
       "      <td>Air</td>\n",
       "      <td>(I) (2023)</td>\n",
       "      <td>111 min</td>\n",
       "      <td>7.5</td>\n",
       "      <td>73</td>\n",
       "      <td>97,982</td>\n",
       "      <td>%^%^%^</td>\n",
       "      <td>Follows the history of shoe salesman Sonny Vac...</td>\n",
       "      <td>Ben Affleck</td>\n",
       "      <td>Matt Damon, Jason Bateman, Ben Affleck, Chris ...</td>\n",
       "      <td>...</td>\n",
       "      <td>0</td>\n",
       "      <td>0</td>\n",
       "      <td>0</td>\n",
       "      <td>0</td>\n",
       "      <td>0</td>\n",
       "      <td>0</td>\n",
       "      <td>1</td>\n",
       "      <td>0</td>\n",
       "      <td>0</td>\n",
       "      <td>0</td>\n",
       "    </tr>\n",
       "    <tr>\n",
       "      <th>4</th>\n",
       "      <td>Hypnotic</td>\n",
       "      <td>(2023)</td>\n",
       "      <td>93 min</td>\n",
       "      <td>5.4</td>\n",
       "      <td>53</td>\n",
       "      <td>9,311</td>\n",
       "      <td>%^%^%^</td>\n",
       "      <td>A detective investigates a mystery involving h...</td>\n",
       "      <td>Robert Rodriguez</td>\n",
       "      <td>Ben Affleck, Alice Braga, JD Pardo, Dayo Okeniyi</td>\n",
       "      <td>...</td>\n",
       "      <td>0</td>\n",
       "      <td>1</td>\n",
       "      <td>0</td>\n",
       "      <td>1</td>\n",
       "      <td>0</td>\n",
       "      <td>0</td>\n",
       "      <td>0</td>\n",
       "      <td>0</td>\n",
       "      <td>0</td>\n",
       "      <td>0</td>\n",
       "    </tr>\n",
       "  </tbody>\n",
       "</table>\n",
       "<p>5 rows × 34 columns</p>\n",
       "</div>"
      ],
      "text/plain": [
       "                                Movie Name Year of Release Watch Time  \\\n",
       "0                     John Wick: Chapter 4          (2023)    169 min   \n",
       "1  Dungeons & Dragons: Honor Among Thieves          (2023)    134 min   \n",
       "2              The Super Mario Bros. Movie          (2023)     92 min   \n",
       "3                                      Air      (I) (2023)    111 min   \n",
       "4                                 Hypnotic          (2023)     93 min   \n",
       "\n",
       "   Movie Rating Meatscore of movie    Votes   Gross  \\\n",
       "0           8.0         78          197,340  %^%^%^   \n",
       "1           7.3         72          124,542  %^%^%^   \n",
       "2           7.2         46          136,183  %^%^%^   \n",
       "3           7.5         73           97,982  %^%^%^   \n",
       "4           5.4         53            9,311  %^%^%^   \n",
       "\n",
       "                                         Description  \\\n",
       "0  John Wick uncovers a path to defeating The Hig...   \n",
       "1  A charming thief and a band of unlikely advent...   \n",
       "2  A plumber named Mario travels through an under...   \n",
       "3  Follows the history of shoe salesman Sonny Vac...   \n",
       "4  A detective investigates a mystery involving h...   \n",
       "\n",
       "                                           Directors  \\\n",
       "0                                     Chad Stahelski   \n",
       "1             John Francis Daley, Jonathan Goldstein   \n",
       "2  Aaron Horvath, Michael Jelenic, Pierre Leduc, ...   \n",
       "3                                        Ben Affleck   \n",
       "4                                   Robert Rodriguez   \n",
       "\n",
       "                                               Stars  ... Family  Mystery  \\\n",
       "0  Keanu Reeves, Laurence Fishburne, George Georg...  ...      0        0   \n",
       "1  Chris Pine, Michelle Rodriguez, Regé-Jean Page...  ...      0        0   \n",
       "2  Chris Pratt, Anya Taylor-Joy, Charlie Day, Jac...  ...      0        0   \n",
       "3  Matt Damon, Jason Bateman, Ben Affleck, Chris ...  ...      0        0   \n",
       "4   Ben Affleck, Alice Braga, JD Pardo, Dayo Okeniyi  ...      0        1   \n",
       "\n",
       "   Crime  Thriller  News  Biography  Drama  Fantasy  Western  Animation  \n",
       "0      1         1     0          0      0        0        0          0  \n",
       "1      0         0     0          0      0        0        0          0  \n",
       "2      0         0     0          0      0        0        0          1  \n",
       "3      0         0     0          0      1        0        0          0  \n",
       "4      0         1     0          0      0        0        0          0  \n",
       "\n",
       "[5 rows x 34 columns]"
      ]
     },
     "execution_count": 5,
     "metadata": {},
     "output_type": "execute_result"
    }
   ],
   "source": [
    "#Reading and checking data\n",
    "\n",
    "df = pd.read_excel(\"IMDB-2022-2023-W-Genres.xlsx\",index_col=0)\n",
    "df.head()\n"
   ]
  },
  {
   "cell_type": "code",
   "execution_count": 6,
   "id": "1be49a06",
   "metadata": {},
   "outputs": [
    {
     "data": {
      "text/plain": [
       "Index(['Movie Name', 'Year of Release', 'Watch Time', 'Movie Rating',\n",
       "       'Meatscore of movie', 'Votes', 'Gross', 'Description', 'Directors',\n",
       "       'Stars', 'Genres', 'Year_ONLY', 'Romance', 'Music', 'Musical',\n",
       "       'Adventure', 'Horror', 'Action', 'Sport', 'Sci-Fi', 'Reality-TV',\n",
       "       'Comedy', 'History', 'War', 'Family', 'Mystery', 'Crime', 'Thriller',\n",
       "       'News', 'Biography', 'Drama', 'Fantasy', 'Western', 'Animation'],\n",
       "      dtype='object')"
      ]
     },
     "execution_count": 6,
     "metadata": {},
     "output_type": "execute_result"
    }
   ],
   "source": [
    "df.columns  #data's columns"
   ]
  },
  {
   "cell_type": "code",
   "execution_count": 4,
   "id": "98bdb80b",
   "metadata": {},
   "outputs": [
    {
     "data": {
      "text/plain": [
       "17500"
      ]
     },
     "execution_count": 4,
     "metadata": {},
     "output_type": "execute_result"
    }
   ],
   "source": [
    "df.shape[0]   #shape of data"
   ]
  },
  {
   "attachments": {},
   "cell_type": "markdown",
   "id": "e90845d7",
   "metadata": {},
   "source": [
    "# DATA EXPLORATION"
   ]
  },
  {
   "attachments": {},
   "cell_type": "markdown",
   "id": "e7f4fb7f",
   "metadata": {},
   "source": [
    "In this section i have created some functions that displays various aspects of data or a specific column"
   ]
  },
  {
   "attachments": {},
   "cell_type": "markdown",
   "id": "4ba5a351",
   "metadata": {},
   "source": [
    "\"null_counter\" as you can understand by looking at its name displays all columns with has at least one missing value and its count"
   ]
  },
  {
   "cell_type": "code",
   "execution_count": 7,
   "id": "739ef6b1",
   "metadata": {},
   "outputs": [],
   "source": [
    "def null_counter(data:pd.DataFrame, show_plt = True):  #show_plot gives barplot\n",
    "    dicti = {}\n",
    "    dicti2 = {}\n",
    "    for a in data.columns:\n",
    "        null_count = data[a].isna().sum()\n",
    "        if null_count > 0:\n",
    "            dicti[a] = null_count\n",
    "            \n",
    "        else:\n",
    "            pass\n",
    "    dicti[\"Size_Of_Data\"] = data.shape[0]    \n",
    "    inside_1 =  pd.DataFrame(dicti,index=[\"Missing Value Counts Per Column\"]).T\n",
    "    for a,k in inside_1.iterrows():\n",
    "        inside_1.loc[a,\"Ratio_NA\"] = inside_1.loc[a][\"Missing Value Counts Per Column\"]/inside_1.loc[\"Size_Of_Data\",\"Missing Value Counts Per Column\"]\n",
    "        \n",
    "    if show_plt:\n",
    "        return (inside_1, inside_1.Ratio_NA[:-1].plot(kind = \"bar\"))[0]\n",
    "    else:\n",
    "        return inside_1\n",
    "    "
   ]
  },
  {
   "cell_type": "code",
   "execution_count": 9,
   "id": "c8f1c5ed",
   "metadata": {},
   "outputs": [
    {
     "data": {
      "text/html": [
       "<div>\n",
       "<style scoped>\n",
       "    .dataframe tbody tr th:only-of-type {\n",
       "        vertical-align: middle;\n",
       "    }\n",
       "\n",
       "    .dataframe tbody tr th {\n",
       "        vertical-align: top;\n",
       "    }\n",
       "\n",
       "    .dataframe thead th {\n",
       "        text-align: right;\n",
       "    }\n",
       "</style>\n",
       "<table border=\"1\" class=\"dataframe\">\n",
       "  <thead>\n",
       "    <tr style=\"text-align: right;\">\n",
       "      <th></th>\n",
       "      <th>Missing Value Counts Per Column</th>\n",
       "      <th>Ratio_NA</th>\n",
       "    </tr>\n",
       "  </thead>\n",
       "  <tbody>\n",
       "    <tr>\n",
       "      <th>Year of Release</th>\n",
       "      <td>7</td>\n",
       "      <td>0.000400</td>\n",
       "    </tr>\n",
       "    <tr>\n",
       "      <th>Watch Time</th>\n",
       "      <td>2115</td>\n",
       "      <td>0.120857</td>\n",
       "    </tr>\n",
       "    <tr>\n",
       "      <th>Movie Rating</th>\n",
       "      <td>1952</td>\n",
       "      <td>0.111543</td>\n",
       "    </tr>\n",
       "    <tr>\n",
       "      <th>Genres</th>\n",
       "      <td>233</td>\n",
       "      <td>0.013314</td>\n",
       "    </tr>\n",
       "    <tr>\n",
       "      <th>Year_ONLY</th>\n",
       "      <td>7</td>\n",
       "      <td>0.000400</td>\n",
       "    </tr>\n",
       "    <tr>\n",
       "      <th>Size_Of_Data</th>\n",
       "      <td>17500</td>\n",
       "      <td>1.000000</td>\n",
       "    </tr>\n",
       "  </tbody>\n",
       "</table>\n",
       "</div>"
      ],
      "text/plain": [
       "                 Missing Value Counts Per Column  Ratio_NA\n",
       "Year of Release                                7  0.000400\n",
       "Watch Time                                  2115  0.120857\n",
       "Movie Rating                                1952  0.111543\n",
       "Genres                                       233  0.013314\n",
       "Year_ONLY                                      7  0.000400\n",
       "Size_Of_Data                               17500  1.000000"
      ]
     },
     "execution_count": 9,
     "metadata": {},
     "output_type": "execute_result"
    },
    {
     "data": {
      "image/png": "[encoded data removed]",
      "text/plain": [
       "<Figure size 640x480 with 1 Axes>"
      ]
     },
     "metadata": {},
     "output_type": "display_data"
    }
   ],
   "source": [
    "null_counter(df,show_plt=True)   #Ratio_NA column gives proportion of  missing values."
   ]
  },
  {
   "attachments": {},
   "cell_type": "markdown",
   "id": "8db8a031",
   "metadata": {},
   "source": [
    "\"column_distribution_finder\" function takes data and a specific column name and give shape of data"
   ]
  },
  {
   "cell_type": "code",
   "execution_count": 11,
   "id": "b385e5bb",
   "metadata": {},
   "outputs": [],
   "source": [
    "\n",
    "def column_distribution_finder(data:pd.DataFrame,column:str):\n",
    "    fig, ax = plt.subplots(1, 2,figsize=(15,6))\n",
    "\n",
    "\n",
    "    df[column].value_counts().plot(ax=ax[0])\n",
    "\n",
    "    sns.histplot(x = column, data = df,ax=ax[1])\n",
    "\n",
    "\n",
    "    mu=df[column].value_counts().describe()[\"mean\"]\n",
    "    std = df[column].value_counts().describe()[\"std\"]\n",
    "\n",
    "    limm = mu + std  #for looking most of the data it limits by (mean + std) of data\n",
    "    ax[1].set_ylim(0,limm)\n",
    "\n",
    "\n"
   ]
  },
  {
   "cell_type": "code",
   "execution_count": 12,
   "id": "d7901af2",
   "metadata": {
    "scrolled": false
   },
   "outputs": [
    {
     "data": {
      "image/png": "[encoded data removed]",
      "text/plain": [
       "<Figure size 1500x600 with 2 Axes>"
      ]
     },
     "metadata": {},
     "output_type": "display_data"
    }
   ],
   "source": [
    "column_distribution_finder(df,\"Movie Rating\")"
   ]
  },
  {
   "cell_type": "code",
   "execution_count": 13,
   "id": "7363d1ce",
   "metadata": {
    "scrolled": false
   },
   "outputs": [
    {
     "data": {
      "image/png": "[encoded data removed]",
      "text/plain": [
       "<Figure size 1500x600 with 2 Axes>"
      ]
     },
     "metadata": {},
     "output_type": "display_data"
    }
   ],
   "source": [
    "column_distribution_finder(df,\"Year_ONLY\")"
   ]
  },
  {
   "attachments": {},
   "cell_type": "markdown",
   "id": "a342decb",
   "metadata": {},
   "source": [
    "# DATA PREPROCESSING"
   ]
  },
  {
   "attachments": {},
   "cell_type": "markdown",
   "id": "14eb610a",
   "metadata": {},
   "source": [
    "In this section i will drop/fill NA values, change some mis categorized data to numeric data and one hot encode some categorical data."
   ]
  },
  {
   "attachments": {},
   "cell_type": "markdown",
   "id": "0a6b6302",
   "metadata": {},
   "source": [
    "We are looking for \"Movie Rating\" column, this is our target so any missing value at this column makes all row meaningless.\n",
    "we are dropping them"
   ]
  },
  {
   "cell_type": "code",
   "execution_count": 41,
   "id": "18b33863",
   "metadata": {},
   "outputs": [
    {
     "data": {
      "text/plain": [
       "0        2023\n",
       "1        2023\n",
       "2        2023\n",
       "3        2023\n",
       "4        2023\n",
       "         ... \n",
       "17495    2022\n",
       "17496    2022\n",
       "17497    2022\n",
       "17498    2022\n",
       "17499    2022\n",
       "Name: Year_ONLY, Length: 15543, dtype: object"
      ]
     },
     "execution_count": 41,
     "metadata": {},
     "output_type": "execute_result"
    }
   ],
   "source": [
    "df2 = df.copy() #for conserving original data we are creating a copy\n",
    "df2=df2.dropna(subset = [\"Movie Rating\",\"Year_ONLY\"])  #we only have 8 year missing value, so we are dropping them also\n",
    "df2.shape[0]\n",
    "df2[\"Year_ONLY\"]=df2[\"Year_ONLY\"].astype(\"int\").astype(\"str\") # Changing Year only column to string\n",
    "df2[\"Year_ONLY\"]"
   ]
  },
  {
   "cell_type": "code",
   "execution_count": 42,
   "id": "421c0d9b",
   "metadata": {},
   "outputs": [
    {
     "data": {
      "text/html": [
       "<div>\n",
       "<style scoped>\n",
       "    .dataframe tbody tr th:only-of-type {\n",
       "        vertical-align: middle;\n",
       "    }\n",
       "\n",
       "    .dataframe tbody tr th {\n",
       "        vertical-align: top;\n",
       "    }\n",
       "\n",
       "    .dataframe thead tr th {\n",
       "        text-align: left;\n",
       "    }\n",
       "\n",
       "    .dataframe thead tr:last-of-type th {\n",
       "        text-align: right;\n",
       "    }\n",
       "</style>\n",
       "<table border=\"1\" class=\"dataframe\">\n",
       "  <thead>\n",
       "    <tr>\n",
       "      <th></th>\n",
       "      <th colspan=\"5\" halign=\"left\">Movie Rating</th>\n",
       "    </tr>\n",
       "    <tr>\n",
       "      <th></th>\n",
       "      <th>mean</th>\n",
       "      <th>max</th>\n",
       "      <th>min</th>\n",
       "      <th>median</th>\n",
       "      <th>std</th>\n",
       "    </tr>\n",
       "    <tr>\n",
       "      <th>Year_ONLY</th>\n",
       "      <th></th>\n",
       "      <th></th>\n",
       "      <th></th>\n",
       "      <th></th>\n",
       "      <th></th>\n",
       "    </tr>\n",
       "  </thead>\n",
       "  <tbody>\n",
       "    <tr>\n",
       "      <th>2022</th>\n",
       "      <td>6.469658</td>\n",
       "      <td>10.0</td>\n",
       "      <td>1.0</td>\n",
       "      <td>6.6</td>\n",
       "      <td>1.333041</td>\n",
       "    </tr>\n",
       "    <tr>\n",
       "      <th>2023</th>\n",
       "      <td>6.432076</td>\n",
       "      <td>10.0</td>\n",
       "      <td>1.2</td>\n",
       "      <td>6.6</td>\n",
       "      <td>1.394961</td>\n",
       "    </tr>\n",
       "  </tbody>\n",
       "</table>\n",
       "</div>"
      ],
      "text/plain": [
       "          Movie Rating                            \n",
       "                  mean   max  min median       std\n",
       "Year_ONLY                                         \n",
       "2022          6.469658  10.0  1.0    6.6  1.333041\n",
       "2023          6.432076  10.0  1.2    6.6  1.394961"
      ]
     },
     "execution_count": 42,
     "metadata": {},
     "output_type": "execute_result"
    },
    {
     "data": {
      "image/png": "[encoded data removed]",
      "text/plain": [
       "<Figure size 1000x600 with 1 Axes>"
      ]
     },
     "metadata": {},
     "output_type": "display_data"
    }
   ],
   "source": [
    " #for extra exploration of data\n",
    "plt.figure(figsize=(10,6))\n",
    "\n",
    "## this creates the actual figure on a Matplotlib Axes object\n",
    "ax = sns.barplot(x='Year_ONLY', y='Movie Rating',\n",
    "                 data=df2,\n",
    "                 palette='nipy_spectral')\n",
    "df2.groupby(by = \"Year_ONLY\").agg({\"Movie Rating\":[\"mean\",\"max\",\"min\",\"median\",\"std\"]})"
   ]
  },
  {
   "attachments": {},
   "cell_type": "markdown",
   "id": "6edc3452",
   "metadata": {},
   "source": [
    "When i get data from IMDB site i have seen an extra part at the HTML file such as (I) near the year, ı do not know that that is but i thought it might be something important. So i have extract them and if there are any extra information near the year our \"Extra-Information-Date\" column going to take 1 else 0"
   ]
  },
  {
   "cell_type": "code",
   "execution_count": 43,
   "id": "08f1a4ab",
   "metadata": {},
   "outputs": [],
   "source": [
    "\n",
    "for a,k in df2.iterrows():\n",
    "    yearr=df2.loc[a,\"Year of Release\"]\n",
    "    yearr = re.sub('[(2023)(2022){}<>]', '', yearr) if yearr != np.nan else np.nan\n",
    "    df2.loc[a,\"Extra-Information-Date\"] = 1.0 if yearr != \"\" else 0.0"
   ]
  },
  {
   "cell_type": "code",
   "execution_count": 44,
   "id": "38f473c1",
   "metadata": {},
   "outputs": [
    {
     "data": {
      "text/plain": [
       "0        0.0\n",
       "1        0.0\n",
       "2        0.0\n",
       "3        1.0\n",
       "4        0.0\n",
       "        ... \n",
       "17495    0.0\n",
       "17496    0.0\n",
       "17497    0.0\n",
       "17498    0.0\n",
       "17499    0.0\n",
       "Name: Extra-Information-Date, Length: 15543, dtype: float64"
      ]
     },
     "execution_count": 44,
     "metadata": {},
     "output_type": "execute_result"
    }
   ],
   "source": [
    "df2[\"Extra-Information-Date\"]"
   ]
  },
  {
   "attachments": {},
   "cell_type": "markdown",
   "id": "69b97649",
   "metadata": {},
   "source": [
    "Watch Time fill na"
   ]
  },
  {
   "attachments": {},
   "cell_type": "markdown",
   "id": "43fe3767",
   "metadata": {},
   "source": [
    "Watch Time column should be continuus/numeric but it has \"min\" as str in so pandas considers it as string"
   ]
  },
  {
   "attachments": {},
   "cell_type": "markdown",
   "id": "40603982",
   "metadata": {},
   "source": [
    "Also this column has 1138 missing value, after transform data to numeric we are going to replace missing values with median of data."
   ]
  },
  {
   "cell_type": "code",
   "execution_count": 45,
   "id": "489d6e67",
   "metadata": {},
   "outputs": [
    {
     "data": {
      "text/plain": [
       "1138"
      ]
     },
     "execution_count": 45,
     "metadata": {},
     "output_type": "execute_result"
    }
   ],
   "source": [
    "df2[\"Watch Time\"].isna().sum()"
   ]
  },
  {
   "cell_type": "code",
   "execution_count": 46,
   "id": "747af8ca",
   "metadata": {},
   "outputs": [
    {
     "data": {
      "text/plain": [
       "0        169.0\n",
       "1        134.0\n",
       "2         92.0\n",
       "3        111.0\n",
       "4         93.0\n",
       "         ...  \n",
       "17495    106.0\n",
       "17496    116.0\n",
       "17497    122.0\n",
       "17498    104.0\n",
       "17499    187.0\n",
       "Name: Watch Time, Length: 15543, dtype: float64"
      ]
     },
     "execution_count": 46,
     "metadata": {},
     "output_type": "execute_result"
    }
   ],
   "source": [
    "#Changing 116,2 min (str) to 116.2 (float)\n",
    "df2[\"Watch Time\"]=df2[\"Watch Time\"].str.replace(',','.')\n",
    "watch_time_indis=df2[df2[\"Watch Time\"].isna()].index.tolist()  #None'ları işleme sokmuyoruz\n",
    "for a,k in df2.iterrows():\n",
    "    if a not in watch_time_indis:\n",
    "        df2.loc[a,\"Watch Time\"] = str(k[\"Watch Time\"]).strip(\" min\")\n",
    "    else:\n",
    "        continue\n",
    "\n",
    "df2[\"Watch Time\"] = df2[\"Watch Time\"].astype(float)\n",
    "df2[\"Watch Time\"]"
   ]
  },
  {
   "cell_type": "code",
   "execution_count": 47,
   "id": "7d231b8d",
   "metadata": {},
   "outputs": [],
   "source": [
    "#taking median of data and filling missing values as such\n",
    "mod_watchtime=df2[\"Watch Time\"].median()\n",
    "df2.loc[watch_time_indis,\"Watch Time\"] = mod_watchtime\n",
    "#after replacing missing value, i would like to see which columns had missing value, i have stored them in \"Wath Time None\" column \n",
    "\n",
    "df2.loc[watch_time_indis,\"Watch Time None\"] = 1  #If that row has missing value at Watch time it is 1 \n",
    "df2[\"Watch Time None\"].fillna(0,inplace=True)                           #else  0\n"
   ]
  },
  {
   "attachments": {},
   "cell_type": "markdown",
   "id": "148c6fd8",
   "metadata": {},
   "source": [
    "METASCORE COLUMN"
   ]
  },
  {
   "attachments": {},
   "cell_type": "markdown",
   "id": "b8a50c53",
   "metadata": {},
   "source": [
    "At Metascore column we have also missing value that codded as *** so after replacing them i have stored this missing value information at \"Metascore Missing\" column"
   ]
  },
  {
   "cell_type": "code",
   "execution_count": 48,
   "id": "f62b6c0c",
   "metadata": {},
   "outputs": [],
   "source": [
    "missing_Meta=df2[df2[\"Meatscore of movie\"]  == \"****\"].index.tolist()  #getting indexes of missing values\n",
    "df3 = df2.copy()                            #getting an temporal data for getting median of data\n",
    "df3=df3.drop(index= missing_Meta)           #at this temporal dataframe we are going to drop all **** values\n",
    "mod_Metascore=df3[\"Meatscore of movie\"].median()     #after dropping we are going to get median value\n",
    "df2.loc[missing_Meta,\"Meatscore of movie\"] = mod_Metascore #after filling missing with median value\n",
    "df2.loc[missing_Meta,\"Metascore Missing\"] = 1  #after storing missing value information\n",
    "df2[\"Metascore Missing\"].fillna(0,inplace = True)\n",
    "df2[\"Meatscore of movie\"]=df2[\"Meatscore of movie\"].astype(float)"
   ]
  },
  {
   "attachments": {},
   "cell_type": "markdown",
   "id": "6e241f77",
   "metadata": {},
   "source": [
    "Votes"
   ]
  },
  {
   "attachments": {},
   "cell_type": "markdown",
   "id": "dc7745aa",
   "metadata": {},
   "source": [
    "\"Votes\" column has comma as thousands separator and pandas misunderstand this as string, so here i only strip commas and then making them floats"
   ]
  },
  {
   "cell_type": "code",
   "execution_count": 49,
   "id": "6035a655",
   "metadata": {},
   "outputs": [],
   "source": [
    "\n",
    "df2[\"Votes\"]=df2[\"Votes\"].str.replace(',','')\n",
    "df2[\"Votes\"]=df2[\"Votes\"].astype(float)"
   ]
  },
  {
   "attachments": {},
   "cell_type": "markdown",
   "id": "33eddda1",
   "metadata": {},
   "source": [
    "2023 one hot encoder"
   ]
  },
  {
   "attachments": {},
   "cell_type": "markdown",
   "id": "73822585",
   "metadata": {},
   "source": [
    "At here i one hot encode year information manually, if year is 2023 it is 1 else 0"
   ]
  },
  {
   "cell_type": "code",
   "execution_count": 50,
   "id": "0aea8499",
   "metadata": {},
   "outputs": [],
   "source": [
    "indices_2023=df2[df2[\"Year_ONLY\"] == \"2023\"].index.tolist()\n",
    "df2.loc[indices_2023,\"YEAR_2023\"] = 1\n",
    "df2[\"YEAR_2023\"].fillna(0,inplace=True)"
   ]
  },
  {
   "attachments": {},
   "cell_type": "markdown",
   "id": "d6276599",
   "metadata": {},
   "source": [
    "CATEGORIES SELECTION"
   ]
  },
  {
   "attachments": {},
   "cell_type": "markdown",
   "id": "758a5f8f",
   "metadata": {},
   "source": [
    "At here i checked which of the categories information i should choose"
   ]
  },
  {
   "cell_type": "code",
   "execution_count": 51,
   "id": "96ab43f1",
   "metadata": {
    "scrolled": false
   },
   "outputs": [
    {
     "data": {
      "text/plain": [
       "Drama                     7496.0\n",
       "YEAR_2023                 4667.0\n",
       "Comedy                    4451.0\n",
       "Thriller                  3604.0\n",
       "Action                    3425.0\n",
       "Horror                    2898.0\n",
       "Adventure                 1926.0\n",
       "Mystery                   1513.0\n",
       "Crime                     1417.0\n",
       "Extra-Information-Date    1397.0\n",
       "Romance                   1242.0\n",
       "Watch Time None           1138.0\n",
       "Fantasy                    735.0\n",
       "History                    692.0\n",
       "Sci-Fi                     656.0\n",
       "Animation                  515.0\n",
       "Biography                  460.0\n",
       "Family                     455.0\n",
       "Sport                      315.0\n",
       "Music                      261.0\n",
       "War                        232.0\n",
       "Western                    118.0\n",
       "Musical                     83.0\n",
       "Reality-TV                   3.0\n",
       "News                         1.0\n",
       "dtype: float64"
      ]
     },
     "execution_count": 51,
     "metadata": {},
     "output_type": "execute_result"
    }
   ],
   "source": [
    "df2.iloc[:,12:].sum().sort_values(ascending=False)[1:]"
   ]
  },
  {
   "cell_type": "code",
   "execution_count": 52,
   "id": "d6f49ea0",
   "metadata": {},
   "outputs": [
    {
     "data": {
      "text/plain": [
       "Drama                     7496.0\n",
       "YEAR_2023                 4667.0\n",
       "Comedy                    4451.0\n",
       "Thriller                  3604.0\n",
       "Action                    3425.0\n",
       "Horror                    2898.0\n",
       "Adventure                 1926.0\n",
       "Mystery                   1513.0\n",
       "Crime                     1417.0\n",
       "Extra-Information-Date    1397.0\n",
       "Romance                   1242.0\n",
       "Watch Time None           1138.0\n",
       "Fantasy                    735.0\n",
       "History                    692.0\n",
       "dtype: float64"
      ]
     },
     "execution_count": 52,
     "metadata": {},
     "output_type": "execute_result"
    }
   ],
   "source": [
    "df2.iloc[:,12:].sum().sort_values(ascending=False)[1:15]\n",
    "#I have decided to use them only, after some trials of course :)\n"
   ]
  },
  {
   "attachments": {},
   "cell_type": "markdown",
   "id": "95700b26",
   "metadata": {},
   "source": [
    "I have put all necessary information in one dataframe"
   ]
  },
  {
   "cell_type": "code",
   "execution_count": 65,
   "id": "cd680114",
   "metadata": {},
   "outputs": [],
   "source": [
    "df_all=df2[[\"Watch Time\",\"Meatscore of movie\",\"Votes\",\"Extra-Information-Date\",\"Watch Time None\",\"Metascore Missing\",\"YEAR_2023\", 'Drama', 'Comedy', 'Thriller',\n",
    "       'Action', 'Horror', 'Adventure', 'Mystery', 'Crime',\n",
    "       'Extra-Information-Date', 'Romance', 'Watch Time None', 'Fantasy',\n",
    "       'History',\"Description\",\"Movie Rating\"]]"
   ]
  },
  {
   "cell_type": "code",
   "execution_count": 55,
   "id": "95a20a13",
   "metadata": {},
   "outputs": [
    {
     "data": {
      "text/html": [
       "<div>\n",
       "<style scoped>\n",
       "    .dataframe tbody tr th:only-of-type {\n",
       "        vertical-align: middle;\n",
       "    }\n",
       "\n",
       "    .dataframe tbody tr th {\n",
       "        vertical-align: top;\n",
       "    }\n",
       "\n",
       "    .dataframe thead th {\n",
       "        text-align: right;\n",
       "    }\n",
       "</style>\n",
       "<table border=\"1\" class=\"dataframe\">\n",
       "  <thead>\n",
       "    <tr style=\"text-align: right;\">\n",
       "      <th></th>\n",
       "      <th>Watch Time</th>\n",
       "      <th>Meatscore of movie</th>\n",
       "      <th>Votes</th>\n",
       "      <th>Extra-Information-Date</th>\n",
       "      <th>Watch Time None</th>\n",
       "      <th>Metascore Missing</th>\n",
       "      <th>YEAR_2023</th>\n",
       "      <th>Drama</th>\n",
       "      <th>Comedy</th>\n",
       "      <th>Thriller</th>\n",
       "      <th>...</th>\n",
       "      <th>Adventure</th>\n",
       "      <th>Mystery</th>\n",
       "      <th>Crime</th>\n",
       "      <th>Extra-Information-Date</th>\n",
       "      <th>Romance</th>\n",
       "      <th>Watch Time None</th>\n",
       "      <th>Fantasy</th>\n",
       "      <th>History</th>\n",
       "      <th>Description</th>\n",
       "      <th>Movie Rating</th>\n",
       "    </tr>\n",
       "  </thead>\n",
       "  <tbody>\n",
       "    <tr>\n",
       "      <th>0</th>\n",
       "      <td>169.0</td>\n",
       "      <td>78.0</td>\n",
       "      <td>197340.0</td>\n",
       "      <td>0.0</td>\n",
       "      <td>0.0</td>\n",
       "      <td>0.0</td>\n",
       "      <td>1.0</td>\n",
       "      <td>0</td>\n",
       "      <td>0</td>\n",
       "      <td>1</td>\n",
       "      <td>...</td>\n",
       "      <td>0</td>\n",
       "      <td>0</td>\n",
       "      <td>1</td>\n",
       "      <td>0.0</td>\n",
       "      <td>0</td>\n",
       "      <td>0.0</td>\n",
       "      <td>0</td>\n",
       "      <td>0</td>\n",
       "      <td>John Wick uncovers a path to defeating The Hig...</td>\n",
       "      <td>8.0</td>\n",
       "    </tr>\n",
       "    <tr>\n",
       "      <th>1</th>\n",
       "      <td>134.0</td>\n",
       "      <td>72.0</td>\n",
       "      <td>124542.0</td>\n",
       "      <td>0.0</td>\n",
       "      <td>0.0</td>\n",
       "      <td>0.0</td>\n",
       "      <td>1.0</td>\n",
       "      <td>0</td>\n",
       "      <td>1</td>\n",
       "      <td>0</td>\n",
       "      <td>...</td>\n",
       "      <td>1</td>\n",
       "      <td>0</td>\n",
       "      <td>0</td>\n",
       "      <td>0.0</td>\n",
       "      <td>0</td>\n",
       "      <td>0.0</td>\n",
       "      <td>0</td>\n",
       "      <td>0</td>\n",
       "      <td>A charming thief and a band of unlikely advent...</td>\n",
       "      <td>7.3</td>\n",
       "    </tr>\n",
       "    <tr>\n",
       "      <th>2</th>\n",
       "      <td>92.0</td>\n",
       "      <td>46.0</td>\n",
       "      <td>136183.0</td>\n",
       "      <td>0.0</td>\n",
       "      <td>0.0</td>\n",
       "      <td>0.0</td>\n",
       "      <td>1.0</td>\n",
       "      <td>0</td>\n",
       "      <td>1</td>\n",
       "      <td>0</td>\n",
       "      <td>...</td>\n",
       "      <td>1</td>\n",
       "      <td>0</td>\n",
       "      <td>0</td>\n",
       "      <td>0.0</td>\n",
       "      <td>0</td>\n",
       "      <td>0.0</td>\n",
       "      <td>0</td>\n",
       "      <td>0</td>\n",
       "      <td>A plumber named Mario travels through an under...</td>\n",
       "      <td>7.2</td>\n",
       "    </tr>\n",
       "    <tr>\n",
       "      <th>3</th>\n",
       "      <td>111.0</td>\n",
       "      <td>73.0</td>\n",
       "      <td>97982.0</td>\n",
       "      <td>1.0</td>\n",
       "      <td>0.0</td>\n",
       "      <td>0.0</td>\n",
       "      <td>1.0</td>\n",
       "      <td>1</td>\n",
       "      <td>0</td>\n",
       "      <td>0</td>\n",
       "      <td>...</td>\n",
       "      <td>0</td>\n",
       "      <td>0</td>\n",
       "      <td>0</td>\n",
       "      <td>1.0</td>\n",
       "      <td>0</td>\n",
       "      <td>0.0</td>\n",
       "      <td>0</td>\n",
       "      <td>0</td>\n",
       "      <td>Follows the history of shoe salesman Sonny Vac...</td>\n",
       "      <td>7.5</td>\n",
       "    </tr>\n",
       "    <tr>\n",
       "      <th>4</th>\n",
       "      <td>93.0</td>\n",
       "      <td>53.0</td>\n",
       "      <td>9311.0</td>\n",
       "      <td>0.0</td>\n",
       "      <td>0.0</td>\n",
       "      <td>0.0</td>\n",
       "      <td>1.0</td>\n",
       "      <td>0</td>\n",
       "      <td>0</td>\n",
       "      <td>1</td>\n",
       "      <td>...</td>\n",
       "      <td>0</td>\n",
       "      <td>1</td>\n",
       "      <td>0</td>\n",
       "      <td>0.0</td>\n",
       "      <td>0</td>\n",
       "      <td>0.0</td>\n",
       "      <td>0</td>\n",
       "      <td>0</td>\n",
       "      <td>A detective investigates a mystery involving h...</td>\n",
       "      <td>5.4</td>\n",
       "    </tr>\n",
       "  </tbody>\n",
       "</table>\n",
       "<p>5 rows × 22 columns</p>\n",
       "</div>"
      ],
      "text/plain": [
       "   Watch Time  Meatscore of movie     Votes  Extra-Information-Date  \\\n",
       "0       169.0                78.0  197340.0                     0.0   \n",
       "1       134.0                72.0  124542.0                     0.0   \n",
       "2        92.0                46.0  136183.0                     0.0   \n",
       "3       111.0                73.0   97982.0                     1.0   \n",
       "4        93.0                53.0    9311.0                     0.0   \n",
       "\n",
       "   Watch Time None  Metascore Missing  YEAR_2023  Drama  Comedy  Thriller  \\\n",
       "0              0.0                0.0        1.0      0       0         1   \n",
       "1              0.0                0.0        1.0      0       1         0   \n",
       "2              0.0                0.0        1.0      0       1         0   \n",
       "3              0.0                0.0        1.0      1       0         0   \n",
       "4              0.0                0.0        1.0      0       0         1   \n",
       "\n",
       "   ...  Adventure  Mystery  Crime  Extra-Information-Date  Romance  \\\n",
       "0  ...          0        0      1                     0.0        0   \n",
       "1  ...          1        0      0                     0.0        0   \n",
       "2  ...          1        0      0                     0.0        0   \n",
       "3  ...          0        0      0                     1.0        0   \n",
       "4  ...          0        1      0                     0.0        0   \n",
       "\n",
       "   Watch Time None  Fantasy  History  \\\n",
       "0              0.0        0        0   \n",
       "1              0.0        0        0   \n",
       "2              0.0        0        0   \n",
       "3              0.0        0        0   \n",
       "4              0.0        0        0   \n",
       "\n",
       "                                         Description  Movie Rating  \n",
       "0  John Wick uncovers a path to defeating The Hig...           8.0  \n",
       "1  A charming thief and a band of unlikely advent...           7.3  \n",
       "2  A plumber named Mario travels through an under...           7.2  \n",
       "3  Follows the history of shoe salesman Sonny Vac...           7.5  \n",
       "4  A detective investigates a mystery involving h...           5.4  \n",
       "\n",
       "[5 rows x 22 columns]"
      ]
     },
     "execution_count": 55,
     "metadata": {},
     "output_type": "execute_result"
    }
   ],
   "source": [
    "df_all.head()"
   ]
  },
  {
   "cell_type": "code",
   "execution_count": 66,
   "id": "9297ee56",
   "metadata": {},
   "outputs": [
    {
     "data": {
      "text/plain": [
       "0        John Wick uncovers a path to defeating The Hig...\n",
       "1        A charming thief and a band of unlikely advent...\n",
       "2        A plumber named Mario travels through an under...\n",
       "3        Follows the history of shoe salesman Sonny Vac...\n",
       "4        A detective investigates a mystery involving h...\n",
       "                               ...                        \n",
       "17495    Feature film based on the children's book abou...\n",
       "17496    Street-smart Nathan Drake is recruited by seas...\n",
       "17497    A modern action adventure road story where a 1...\n",
       "17498    A divorced couple teams up and travels to Bali...\n",
       "17499    A fictitious story about two legendary revolut...\n",
       "Name: Description, Length: 15543, dtype: object"
      ]
     },
     "execution_count": 66,
     "metadata": {},
     "output_type": "execute_result"
    }
   ],
   "source": [
    "df2.Description   # I will process this data differently from others  i will show it later on this notebook"
   ]
  },
  {
   "attachments": {},
   "cell_type": "markdown",
   "id": "03e3f8d5",
   "metadata": {},
   "source": [
    "This function below just makes data into lower case then strip data from punctuation"
   ]
  },
  {
   "cell_type": "code",
   "execution_count": 67,
   "id": "689b0cdc",
   "metadata": {},
   "outputs": [],
   "source": [
    "def custome_standardization(input_data):\n",
    "    lowercase = tf.strings.lower(input_data)\n",
    "    stripped_punc = tf.strings.regex_replace(lowercase, \"[%s]\"% re.escape(string.punctuation),\"\")\n",
    "    return stripped_punc\n",
    "    \n",
    "df_all.loc[:,\"Description\"]=custome_standardization(df_all[\"Description\"])    "
   ]
  },
  {
   "cell_type": "code",
   "execution_count": 68,
   "id": "d846c93b",
   "metadata": {},
   "outputs": [
    {
     "data": {
      "text/plain": [
       "0        b'john wick uncovers a path to defeating the h...\n",
       "1        b'a charming thief and a band of unlikely adve...\n",
       "2        b'a plumber named mario travels through an und...\n",
       "3        b'follows the history of shoe salesman sonny v...\n",
       "4        b'a detective investigates a mystery involving...\n",
       "                               ...                        \n",
       "17495    b'feature film based on the childrens book abo...\n",
       "17496    b'streetsmart nathan drake is recruited by sea...\n",
       "17497    b'a modern action adventure road story where a...\n",
       "17498    b'a divorced couple teams up and travels to ba...\n",
       "17499    b'a fictitious story about two legendary revol...\n",
       "Name: Description, Length: 15543, dtype: object"
      ]
     },
     "execution_count": 68,
     "metadata": {},
     "output_type": "execute_result"
    }
   ],
   "source": [
    "df_all[\"Description\"]"
   ]
  },
  {
   "attachments": {},
   "cell_type": "markdown",
   "id": "49304ac9",
   "metadata": {},
   "source": [
    "#  END OF PREPROCESS"
   ]
  },
  {
   "attachments": {},
   "cell_type": "markdown",
   "id": "b8601c42",
   "metadata": {},
   "source": [
    "-------------------------------------------------------------------------------------------------------------------------"
   ]
  },
  {
   "attachments": {},
   "cell_type": "markdown",
   "id": "e9d48b69",
   "metadata": {},
   "source": [
    "# TRAIN TEST SPLIT\n",
    "-----------------------------------------------------------------------------"
   ]
  },
  {
   "cell_type": "code",
   "execution_count": 78,
   "id": "136d62bf",
   "metadata": {},
   "outputs": [
    {
     "data": {
      "text/html": [
       "<div>\n",
       "<style scoped>\n",
       "    .dataframe tbody tr th:only-of-type {\n",
       "        vertical-align: middle;\n",
       "    }\n",
       "\n",
       "    .dataframe tbody tr th {\n",
       "        vertical-align: top;\n",
       "    }\n",
       "\n",
       "    .dataframe thead th {\n",
       "        text-align: right;\n",
       "    }\n",
       "</style>\n",
       "<table border=\"1\" class=\"dataframe\">\n",
       "  <thead>\n",
       "    <tr style=\"text-align: right;\">\n",
       "      <th></th>\n",
       "      <th>Watch Time</th>\n",
       "      <th>Meatscore of movie</th>\n",
       "      <th>Votes</th>\n",
       "      <th>Extra-Information-Date</th>\n",
       "      <th>Watch Time None</th>\n",
       "      <th>Metascore Missing</th>\n",
       "      <th>YEAR_2023</th>\n",
       "      <th>Drama</th>\n",
       "      <th>Comedy</th>\n",
       "      <th>Thriller</th>\n",
       "      <th>...</th>\n",
       "      <th>Horror</th>\n",
       "      <th>Adventure</th>\n",
       "      <th>Mystery</th>\n",
       "      <th>Crime</th>\n",
       "      <th>Extra-Information-Date</th>\n",
       "      <th>Romance</th>\n",
       "      <th>Watch Time None</th>\n",
       "      <th>Fantasy</th>\n",
       "      <th>History</th>\n",
       "      <th>Description</th>\n",
       "    </tr>\n",
       "  </thead>\n",
       "  <tbody>\n",
       "    <tr>\n",
       "      <th>4960</th>\n",
       "      <td>149.0</td>\n",
       "      <td>63.0</td>\n",
       "      <td>6.0</td>\n",
       "      <td>0.0</td>\n",
       "      <td>0.0</td>\n",
       "      <td>1.0</td>\n",
       "      <td>0.0</td>\n",
       "      <td>0</td>\n",
       "      <td>0</td>\n",
       "      <td>0</td>\n",
       "      <td>...</td>\n",
       "      <td>0</td>\n",
       "      <td>0</td>\n",
       "      <td>0</td>\n",
       "      <td>0</td>\n",
       "      <td>0.0</td>\n",
       "      <td>0</td>\n",
       "      <td>0.0</td>\n",
       "      <td>0</td>\n",
       "      <td>0</td>\n",
       "      <td>b'a commoner who is being trapped by five big ...</td>\n",
       "    </tr>\n",
       "    <tr>\n",
       "      <th>5108</th>\n",
       "      <td>107.0</td>\n",
       "      <td>63.0</td>\n",
       "      <td>8.0</td>\n",
       "      <td>0.0</td>\n",
       "      <td>1.0</td>\n",
       "      <td>1.0</td>\n",
       "      <td>1.0</td>\n",
       "      <td>1</td>\n",
       "      <td>0</td>\n",
       "      <td>0</td>\n",
       "      <td>...</td>\n",
       "      <td>0</td>\n",
       "      <td>0</td>\n",
       "      <td>0</td>\n",
       "      <td>1</td>\n",
       "      <td>0.0</td>\n",
       "      <td>0</td>\n",
       "      <td>1.0</td>\n",
       "      <td>0</td>\n",
       "      <td>0</td>\n",
       "      <td>b'two hit men who dont know each other end up ...</td>\n",
       "    </tr>\n",
       "    <tr>\n",
       "      <th>1943</th>\n",
       "      <td>86.0</td>\n",
       "      <td>63.0</td>\n",
       "      <td>226.0</td>\n",
       "      <td>0.0</td>\n",
       "      <td>0.0</td>\n",
       "      <td>1.0</td>\n",
       "      <td>0.0</td>\n",
       "      <td>0</td>\n",
       "      <td>0</td>\n",
       "      <td>0</td>\n",
       "      <td>...</td>\n",
       "      <td>0</td>\n",
       "      <td>0</td>\n",
       "      <td>0</td>\n",
       "      <td>0</td>\n",
       "      <td>0.0</td>\n",
       "      <td>0</td>\n",
       "      <td>0.0</td>\n",
       "      <td>0</td>\n",
       "      <td>0</td>\n",
       "      <td>b'a violent gang of criminals is ordered after...</td>\n",
       "    </tr>\n",
       "    <tr>\n",
       "      <th>12560</th>\n",
       "      <td>95.0</td>\n",
       "      <td>63.0</td>\n",
       "      <td>2054.0</td>\n",
       "      <td>0.0</td>\n",
       "      <td>0.0</td>\n",
       "      <td>1.0</td>\n",
       "      <td>1.0</td>\n",
       "      <td>0</td>\n",
       "      <td>0</td>\n",
       "      <td>1</td>\n",
       "      <td>...</td>\n",
       "      <td>0</td>\n",
       "      <td>0</td>\n",
       "      <td>0</td>\n",
       "      <td>0</td>\n",
       "      <td>0.0</td>\n",
       "      <td>0</td>\n",
       "      <td>0.0</td>\n",
       "      <td>0</td>\n",
       "      <td>0</td>\n",
       "      <td>b'set in the near future a humanoid enlists a ...</td>\n",
       "    </tr>\n",
       "    <tr>\n",
       "      <th>1403</th>\n",
       "      <td>80.0</td>\n",
       "      <td>63.0</td>\n",
       "      <td>330.0</td>\n",
       "      <td>0.0</td>\n",
       "      <td>0.0</td>\n",
       "      <td>1.0</td>\n",
       "      <td>0.0</td>\n",
       "      <td>1</td>\n",
       "      <td>0</td>\n",
       "      <td>1</td>\n",
       "      <td>...</td>\n",
       "      <td>0</td>\n",
       "      <td>0</td>\n",
       "      <td>0</td>\n",
       "      <td>0</td>\n",
       "      <td>0.0</td>\n",
       "      <td>0</td>\n",
       "      <td>0.0</td>\n",
       "      <td>0</td>\n",
       "      <td>0</td>\n",
       "      <td>b'at first glance cat and borja are the perfec...</td>\n",
       "    </tr>\n",
       "    <tr>\n",
       "      <th>...</th>\n",
       "      <td>...</td>\n",
       "      <td>...</td>\n",
       "      <td>...</td>\n",
       "      <td>...</td>\n",
       "      <td>...</td>\n",
       "      <td>...</td>\n",
       "      <td>...</td>\n",
       "      <td>...</td>\n",
       "      <td>...</td>\n",
       "      <td>...</td>\n",
       "      <td>...</td>\n",
       "      <td>...</td>\n",
       "      <td>...</td>\n",
       "      <td>...</td>\n",
       "      <td>...</td>\n",
       "      <td>...</td>\n",
       "      <td>...</td>\n",
       "      <td>...</td>\n",
       "      <td>...</td>\n",
       "      <td>...</td>\n",
       "      <td>...</td>\n",
       "    </tr>\n",
       "    <tr>\n",
       "      <th>48</th>\n",
       "      <td>116.0</td>\n",
       "      <td>73.0</td>\n",
       "      <td>60875.0</td>\n",
       "      <td>0.0</td>\n",
       "      <td>0.0</td>\n",
       "      <td>0.0</td>\n",
       "      <td>1.0</td>\n",
       "      <td>1</td>\n",
       "      <td>0</td>\n",
       "      <td>0</td>\n",
       "      <td>...</td>\n",
       "      <td>0</td>\n",
       "      <td>0</td>\n",
       "      <td>0</td>\n",
       "      <td>0</td>\n",
       "      <td>0.0</td>\n",
       "      <td>0</td>\n",
       "      <td>0.0</td>\n",
       "      <td>0</td>\n",
       "      <td>0</td>\n",
       "      <td>b'adonis has been thriving in both his career ...</td>\n",
       "    </tr>\n",
       "    <tr>\n",
       "      <th>10921</th>\n",
       "      <td>92.0</td>\n",
       "      <td>66.0</td>\n",
       "      <td>2452.0</td>\n",
       "      <td>1.0</td>\n",
       "      <td>0.0</td>\n",
       "      <td>0.0</td>\n",
       "      <td>0.0</td>\n",
       "      <td>0</td>\n",
       "      <td>0</td>\n",
       "      <td>1</td>\n",
       "      <td>...</td>\n",
       "      <td>1</td>\n",
       "      <td>0</td>\n",
       "      <td>1</td>\n",
       "      <td>0</td>\n",
       "      <td>1.0</td>\n",
       "      <td>0</td>\n",
       "      <td>0.0</td>\n",
       "      <td>0</td>\n",
       "      <td>0</td>\n",
       "      <td>b'while struggling on a solo backpacking trip ...</td>\n",
       "    </tr>\n",
       "    <tr>\n",
       "      <th>6399</th>\n",
       "      <td>86.0</td>\n",
       "      <td>63.0</td>\n",
       "      <td>106.0</td>\n",
       "      <td>0.0</td>\n",
       "      <td>0.0</td>\n",
       "      <td>1.0</td>\n",
       "      <td>1.0</td>\n",
       "      <td>0</td>\n",
       "      <td>1</td>\n",
       "      <td>0</td>\n",
       "      <td>...</td>\n",
       "      <td>0</td>\n",
       "      <td>0</td>\n",
       "      <td>0</td>\n",
       "      <td>0</td>\n",
       "      <td>0.0</td>\n",
       "      <td>0</td>\n",
       "      <td>0.0</td>\n",
       "      <td>0</td>\n",
       "      <td>0</td>\n",
       "      <td>b'during the wake after the funeral of their b...</td>\n",
       "    </tr>\n",
       "    <tr>\n",
       "      <th>5631</th>\n",
       "      <td>132.0</td>\n",
       "      <td>63.0</td>\n",
       "      <td>1449.0</td>\n",
       "      <td>0.0</td>\n",
       "      <td>0.0</td>\n",
       "      <td>1.0</td>\n",
       "      <td>0.0</td>\n",
       "      <td>1</td>\n",
       "      <td>0</td>\n",
       "      <td>0</td>\n",
       "      <td>...</td>\n",
       "      <td>0</td>\n",
       "      <td>0</td>\n",
       "      <td>0</td>\n",
       "      <td>0</td>\n",
       "      <td>0.0</td>\n",
       "      <td>0</td>\n",
       "      <td>0.0</td>\n",
       "      <td>0</td>\n",
       "      <td>1</td>\n",
       "      <td>b'a beast  like human has entered into the nal...</td>\n",
       "    </tr>\n",
       "    <tr>\n",
       "      <th>17262</th>\n",
       "      <td>112.0</td>\n",
       "      <td>63.0</td>\n",
       "      <td>5346.0</td>\n",
       "      <td>0.0</td>\n",
       "      <td>0.0</td>\n",
       "      <td>1.0</td>\n",
       "      <td>1.0</td>\n",
       "      <td>0</td>\n",
       "      <td>1</td>\n",
       "      <td>0</td>\n",
       "      <td>...</td>\n",
       "      <td>0</td>\n",
       "      <td>1</td>\n",
       "      <td>0</td>\n",
       "      <td>0</td>\n",
       "      <td>0.0</td>\n",
       "      <td>0</td>\n",
       "      <td>0.0</td>\n",
       "      <td>0</td>\n",
       "      <td>0</td>\n",
       "      <td>b'the only daughter of the chinese emperor han...</td>\n",
       "    </tr>\n",
       "  </tbody>\n",
       "</table>\n",
       "<p>12434 rows × 21 columns</p>\n",
       "</div>"
      ],
      "text/plain": [
       "       Watch Time  Meatscore of movie    Votes  Extra-Information-Date  \\\n",
       "4960        149.0                63.0      6.0                     0.0   \n",
       "5108        107.0                63.0      8.0                     0.0   \n",
       "1943         86.0                63.0    226.0                     0.0   \n",
       "12560        95.0                63.0   2054.0                     0.0   \n",
       "1403         80.0                63.0    330.0                     0.0   \n",
       "...           ...                 ...      ...                     ...   \n",
       "48          116.0                73.0  60875.0                     0.0   \n",
       "10921        92.0                66.0   2452.0                     1.0   \n",
       "6399         86.0                63.0    106.0                     0.0   \n",
       "5631        132.0                63.0   1449.0                     0.0   \n",
       "17262       112.0                63.0   5346.0                     0.0   \n",
       "\n",
       "       Watch Time None  Metascore Missing  YEAR_2023  Drama  Comedy  Thriller  \\\n",
       "4960               0.0                1.0        0.0      0       0         0   \n",
       "5108               1.0                1.0        1.0      1       0         0   \n",
       "1943               0.0                1.0        0.0      0       0         0   \n",
       "12560              0.0                1.0        1.0      0       0         1   \n",
       "1403               0.0                1.0        0.0      1       0         1   \n",
       "...                ...                ...        ...    ...     ...       ...   \n",
       "48                 0.0                0.0        1.0      1       0         0   \n",
       "10921              0.0                0.0        0.0      0       0         1   \n",
       "6399               0.0                1.0        1.0      0       1         0   \n",
       "5631               0.0                1.0        0.0      1       0         0   \n",
       "17262              0.0                1.0        1.0      0       1         0   \n",
       "\n",
       "       ...  Horror  Adventure  Mystery  Crime  Extra-Information-Date  \\\n",
       "4960   ...       0          0        0      0                     0.0   \n",
       "5108   ...       0          0        0      1                     0.0   \n",
       "1943   ...       0          0        0      0                     0.0   \n",
       "12560  ...       0          0        0      0                     0.0   \n",
       "1403   ...       0          0        0      0                     0.0   \n",
       "...    ...     ...        ...      ...    ...                     ...   \n",
       "48     ...       0          0        0      0                     0.0   \n",
       "10921  ...       1          0        1      0                     1.0   \n",
       "6399   ...       0          0        0      0                     0.0   \n",
       "5631   ...       0          0        0      0                     0.0   \n",
       "17262  ...       0          1        0      0                     0.0   \n",
       "\n",
       "       Romance  Watch Time None  Fantasy  History  \\\n",
       "4960         0              0.0        0        0   \n",
       "5108         0              1.0        0        0   \n",
       "1943         0              0.0        0        0   \n",
       "12560        0              0.0        0        0   \n",
       "1403         0              0.0        0        0   \n",
       "...        ...              ...      ...      ...   \n",
       "48           0              0.0        0        0   \n",
       "10921        0              0.0        0        0   \n",
       "6399         0              0.0        0        0   \n",
       "5631         0              0.0        0        1   \n",
       "17262        0              0.0        0        0   \n",
       "\n",
       "                                             Description  \n",
       "4960   b'a commoner who is being trapped by five big ...  \n",
       "5108   b'two hit men who dont know each other end up ...  \n",
       "1943   b'a violent gang of criminals is ordered after...  \n",
       "12560  b'set in the near future a humanoid enlists a ...  \n",
       "1403   b'at first glance cat and borja are the perfec...  \n",
       "...                                                  ...  \n",
       "48     b'adonis has been thriving in both his career ...  \n",
       "10921  b'while struggling on a solo backpacking trip ...  \n",
       "6399   b'during the wake after the funeral of their b...  \n",
       "5631   b'a beast  like human has entered into the nal...  \n",
       "17262  b'the only daughter of the chinese emperor han...  \n",
       "\n",
       "[12434 rows x 21 columns]"
      ]
     },
     "execution_count": 78,
     "metadata": {},
     "output_type": "execute_result"
    }
   ],
   "source": [
    "X_train,X_test,Y_train,Y_test = train_test_split(df_all.iloc[:,:-1],df_all[\"Movie Rating\"],test_size=0.2,random_state = 21)\n",
    "X_train"
   ]
  },
  {
   "attachments": {},
   "cell_type": "markdown",
   "id": "edb2130a",
   "metadata": {},
   "source": [
    "Tokenization of words at \"Description\" column"
   ]
  },
  {
   "cell_type": "code",
   "execution_count": 79,
   "id": "e96e1939",
   "metadata": {},
   "outputs": [],
   "source": [
    "max_length = 250\n",
    "max_tokens = 3000\n",
    "\n",
    "text_vectorization = layers.TextVectorization(\n",
    "    max_tokens = max_tokens,\n",
    "    output_mode = \"int\",\n",
    "    output_sequence_length = max_length\n",
    ")\n",
    "\n",
    "text_vectorization.adapt(X_train[\"Description\"])\n",
    "\n",
    "nlp_X_train=text_vectorization(X_train[\"Description\"]) #entry for out embedded layer -Train\n",
    "nlp_X_test =text_vectorization(X_test[\"Description\"])  #entry for out embedded layer -Train\n",
    " \n"
   ]
  },
  {
   "attachments": {},
   "cell_type": "markdown",
   "id": "b5fbf23d",
   "metadata": {},
   "source": [
    "Standardization/Normalization of our ****Numeric**** columns: \"Watch Time\" ,\"Meatscore of movie\" , \"Votes\""
   ]
  },
  {
   "attachments": {},
   "cell_type": "markdown",
   "id": "b8f5dbbb",
   "metadata": {},
   "source": [
    "For preventing data leakage i had to take mean and standard deviation values from train sets and apply them to test data"
   ]
  },
  {
   "cell_type": "code",
   "execution_count": 80,
   "id": "20a0fe0e",
   "metadata": {},
   "outputs": [],
   "source": [
    "mu_W,std_W=X_train[\"Watch Time\"].mean(),X_train[\"Watch Time\"].std()\n",
    "\n",
    "mu_M,std_M=X_train[\"Meatscore of movie\"].mean(),X_train[\"Meatscore of movie\"].std()\n",
    "\n",
    "mu_V,std_V=X_train[\"Votes\"].mean(),X_train[\"Votes\"].std()\n",
    "\n",
    "\n",
    "X_train[\"Watch Time\"] = (X_train[\"Watch Time\"] - mu_W)/std_W\n",
    "\n",
    "\n",
    "X_train[\"Meatscore of movie\"] = (X_train[\"Meatscore of movie\"] - mu_M)/std_M\n",
    "\n",
    "\n",
    "X_train[\"Votes\"] = (X_train[\"Votes\"] - mu_V)/std_V\n",
    "#####################################For preventing data leakage##############################################\n",
    "\n",
    "X_test[\"Watch Time\"] = (X_test[\"Watch Time\"] - mu_W)/std_W\n",
    "\n",
    "\n",
    "X_test[\"Meatscore of movie\"] = (X_test[\"Meatscore of movie\"] - mu_M)/std_M\n",
    "\n",
    "\n",
    "X_test[\"Votes\"] = (X_test[\"Votes\"] - mu_V)/std_V\n",
    "\n"
   ]
  },
  {
   "cell_type": "code",
   "execution_count": 81,
   "id": "c7cbeddd",
   "metadata": {},
   "outputs": [
    {
     "data": {
      "text/html": [
       "<div>\n",
       "<style scoped>\n",
       "    .dataframe tbody tr th:only-of-type {\n",
       "        vertical-align: middle;\n",
       "    }\n",
       "\n",
       "    .dataframe tbody tr th {\n",
       "        vertical-align: top;\n",
       "    }\n",
       "\n",
       "    .dataframe thead th {\n",
       "        text-align: right;\n",
       "    }\n",
       "</style>\n",
       "<table border=\"1\" class=\"dataframe\">\n",
       "  <thead>\n",
       "    <tr style=\"text-align: right;\">\n",
       "      <th></th>\n",
       "      <th>Watch Time</th>\n",
       "      <th>Meatscore of movie</th>\n",
       "      <th>Votes</th>\n",
       "    </tr>\n",
       "  </thead>\n",
       "  <tbody>\n",
       "    <tr>\n",
       "      <th>4960</th>\n",
       "      <td>1.570791</td>\n",
       "      <td>-0.016023</td>\n",
       "      <td>-0.499080</td>\n",
       "    </tr>\n",
       "    <tr>\n",
       "      <th>5108</th>\n",
       "      <td>-0.189241</td>\n",
       "      <td>-0.016023</td>\n",
       "      <td>-0.499061</td>\n",
       "    </tr>\n",
       "    <tr>\n",
       "      <th>1943</th>\n",
       "      <td>-1.069256</td>\n",
       "      <td>-0.016023</td>\n",
       "      <td>-0.497028</td>\n",
       "    </tr>\n",
       "    <tr>\n",
       "      <th>12560</th>\n",
       "      <td>-0.692107</td>\n",
       "      <td>-0.016023</td>\n",
       "      <td>-0.479980</td>\n",
       "    </tr>\n",
       "    <tr>\n",
       "      <th>1403</th>\n",
       "      <td>-1.320689</td>\n",
       "      <td>-0.016023</td>\n",
       "      <td>-0.496058</td>\n",
       "    </tr>\n",
       "    <tr>\n",
       "      <th>...</th>\n",
       "      <td>...</td>\n",
       "      <td>...</td>\n",
       "      <td>...</td>\n",
       "    </tr>\n",
       "    <tr>\n",
       "      <th>48</th>\n",
       "      <td>0.187909</td>\n",
       "      <td>0.970239</td>\n",
       "      <td>0.068588</td>\n",
       "    </tr>\n",
       "    <tr>\n",
       "      <th>10921</th>\n",
       "      <td>-0.817823</td>\n",
       "      <td>0.279856</td>\n",
       "      <td>-0.476269</td>\n",
       "    </tr>\n",
       "    <tr>\n",
       "      <th>6399</th>\n",
       "      <td>-1.069256</td>\n",
       "      <td>-0.016023</td>\n",
       "      <td>-0.498147</td>\n",
       "    </tr>\n",
       "    <tr>\n",
       "      <th>5631</th>\n",
       "      <td>0.858397</td>\n",
       "      <td>-0.016023</td>\n",
       "      <td>-0.485623</td>\n",
       "    </tr>\n",
       "    <tr>\n",
       "      <th>17262</th>\n",
       "      <td>0.020287</td>\n",
       "      <td>-0.016023</td>\n",
       "      <td>-0.449279</td>\n",
       "    </tr>\n",
       "  </tbody>\n",
       "</table>\n",
       "<p>12434 rows × 3 columns</p>\n",
       "</div>"
      ],
      "text/plain": [
       "       Watch Time  Meatscore of movie     Votes\n",
       "4960     1.570791           -0.016023 -0.499080\n",
       "5108    -0.189241           -0.016023 -0.499061\n",
       "1943    -1.069256           -0.016023 -0.497028\n",
       "12560   -0.692107           -0.016023 -0.479980\n",
       "1403    -1.320689           -0.016023 -0.496058\n",
       "...           ...                 ...       ...\n",
       "48       0.187909            0.970239  0.068588\n",
       "10921   -0.817823            0.279856 -0.476269\n",
       "6399    -1.069256           -0.016023 -0.498147\n",
       "5631     0.858397           -0.016023 -0.485623\n",
       "17262    0.020287           -0.016023 -0.449279\n",
       "\n",
       "[12434 rows x 3 columns]"
      ]
     },
     "execution_count": 81,
     "metadata": {},
     "output_type": "execute_result"
    }
   ],
   "source": [
    "X_train[[\"Watch Time\" ,\"Meatscore of movie\" , \"Votes\"]]  #for checking is data normalized or not"
   ]
  },
  {
   "cell_type": "code",
   "execution_count": 91,
   "id": "c1c95658",
   "metadata": {},
   "outputs": [
    {
     "data": {
      "text/plain": [
       "20"
      ]
     },
     "execution_count": 91,
     "metadata": {},
     "output_type": "execute_result"
    }
   ],
   "source": [
    "data_meta=X_train.iloc[:,:-1].values   #this is for our features, this will enter with concanate layer\n",
    "data_meta.shape\n",
    "data_meta.shape[1]"
   ]
  },
  {
   "attachments": {},
   "cell_type": "markdown",
   "id": "8c718974",
   "metadata": {},
   "source": [
    "# BUILDING MODEL - Functional Architecture\n",
    "------------------------------------------------------------------------------"
   ]
  },
  {
   "attachments": {},
   "cell_type": "markdown",
   "id": "5a0166a3",
   "metadata": {},
   "source": [
    "At our model we have two input layer;nlp_input and meta_input. At nlp_input we have tokenized-text data, and at meta_input we have numeric or one-hot-encoded data"
   ]
  },
  {
   "attachments": {},
   "cell_type": "markdown",
   "id": "1f737fa8",
   "metadata": {},
   "source": [
    "nlp_input goes to Embedded table that make token size to gets an lookup/embed table with size of 48. I found this number after many trials."
   ]
  },
  {
   "attachments": {},
   "cell_type": "markdown",
   "id": "e10fc4ed",
   "metadata": {},
   "source": [
    "After embed table we will have many params and we may over fit with training all of them, so we have decided to drop some weights for preventing overfitting"
   ]
  },
  {
   "attachments": {},
   "cell_type": "markdown",
   "id": "4da8806c",
   "metadata": {},
   "source": [
    "After drop out, data goes to Bidirectional LSTM layer, at this layer tokenized and embedded data's relationship with each other at two way gets inspected by neural net"
   ]
  },
  {
   "attachments": {},
   "cell_type": "markdown",
   "id": "7c8dffc4",
   "metadata": {},
   "source": [
    "After this point we have a concanate layer that concanates nlp_input and meta_input"
   ]
  },
  {
   "attachments": {},
   "cell_type": "markdown",
   "id": "12abdd00",
   "metadata": {},
   "source": [
    "After this layer we have 3 dense layer that two of them  is hidden and has activation function as rectified elu, other one is our output layer that has activation function as linear because we are doing a regression problem here."
   ]
  },
  {
   "attachments": {},
   "cell_type": "markdown",
   "id": "d3b22e66",
   "metadata": {},
   "source": [
    "Finally, we have used adam optimizer but i have not play with its alpha,beta, epsilon, weight decay parameters. Used mean squared error as loss function and use mape as our metric."
   ]
  },
  {
   "cell_type": "code",
   "execution_count": 130,
   "id": "82521ddf",
   "metadata": {},
   "outputs": [],
   "source": [
    "initializer = tf.keras.initializers.HeUniform()\n",
    "\n",
    "nlp_input = Input(shape=(max_length,), name='nlp_input')\n",
    "meta_input = Input(shape=(data_meta.shape[1],), name='meta_input')\n",
    "emb = Embedding(max_tokens+1,48,name = \"EmbeddingLayer\")(nlp_input)\n",
    "emb = Dropout(0.3,name =\"DropOutLayer\")(emb)\n",
    "nlp_out = Bidirectional(LSTM(64,dropout=0.3, recurrent_dropout=0.3,kernel_initializer=initializer,name =\"BidirectionalLayer\"))(emb)\n",
    "x = concatenate([nlp_out, meta_input],name =\"ConcatenateLayer\")\n",
    "x = Dense(128, activation='relu',kernel_initializer=initializer,name=\"DenseLayer1\")(x)\n",
    "x = Dense(64, activation='relu',kernel_initializer=initializer,name=\"DenseLayer2\")(x)\n",
    "x = Dense(1, activation='linear',name = \"OutputLayer\")(x)\n",
    "model = Model(inputs=[nlp_input , meta_input], outputs=[x])\n",
    "model.compile(optimizer = \"adam\", loss = \"mse\", metrics = [\"mape\"])\n",
    "####   NOTES ####\n",
    "#I have used kaimin he uniform initialization this generally does ;\n",
    "#Draws samples from a uniform distribution within [-limit, limit], where limit = sqrt(6 / fan_in) (fan_in is the number of input units in the weight tensor).\n",
    "#You might get more information about this initialization from : \"https://arxiv.org/abs/1502.01852\"\n",
    "#reason for using this initialization is starting to operations with logical initial weights and biases\n",
    "#if we do not start from logical points we are gonna see abysmal loss and metric values at start\n",
    "#due to, at first process of backpropagation tries to squueze anormal weights at starting epochs"
   ]
  },
  {
   "cell_type": "code",
   "execution_count": 100,
   "id": "d15d46c5",
   "metadata": {},
   "outputs": [
    {
     "name": "stdout",
     "output_type": "stream",
     "text": [
      "Model: \"model_3\"\n",
      "__________________________________________________________________________________________________\n",
      " Layer (type)                   Output Shape         Param #     Connected to                     \n",
      "==================================================================================================\n",
      " nlp_input (InputLayer)         [(None, 250)]        0           []                               \n",
      "                                                                                                  \n",
      " EmbeddingLayer (Embedding)     (None, 250, 48)      144048      ['nlp_input[0][0]']              \n",
      "                                                                                                  \n",
      " DropOutLayer (Dropout)         (None, 250, 48)      0           ['EmbeddingLayer[0][0]']         \n",
      "                                                                                                  \n",
      " bidirectional_3 (Bidirectional  (None, 128)         57856       ['DropOutLayer[0][0]']           \n",
      " )                                                                                                \n",
      "                                                                                                  \n",
      " meta_input (InputLayer)        [(None, 20)]         0           []                               \n",
      "                                                                                                  \n",
      " ConcatenateLayer (Concatenate)  (None, 148)         0           ['bidirectional_3[0][0]',        \n",
      "                                                                  'meta_input[0][0]']             \n",
      "                                                                                                  \n",
      " DenseLayer1 (Dense)            (None, 128)          19072       ['ConcatenateLayer[0][0]']       \n",
      "                                                                                                  \n",
      " DenseLayer2 (Dense)            (None, 64)           8256        ['DenseLayer1[0][0]']            \n",
      "                                                                                                  \n",
      " OutputLayer (Dense)            (None, 1)            65          ['DenseLayer2[0][0]']            \n",
      "                                                                                                  \n",
      "==================================================================================================\n",
      "Total params: 229,297\n",
      "Trainable params: 229,297\n",
      "Non-trainable params: 0\n",
      "__________________________________________________________________________________________________\n"
     ]
    }
   ],
   "source": [
    "model.summary()  #we can see summary of our model"
   ]
  },
  {
   "attachments": {},
   "cell_type": "markdown",
   "id": "96f31ab7",
   "metadata": {},
   "source": [
    "I have used timer() for seeing the total time has passed, i have used callbacks for saving best model, used validation_split for getting a validation data. "
   ]
  },
  {
   "attachments": {},
   "cell_type": "markdown",
   "id": "f9cc921d",
   "metadata": {},
   "source": [
    "I have only utilized 10 epoch due to training only one time takes approximately 15 minutes at my machine"
   ]
  },
  {
   "cell_type": "code",
   "execution_count": 101,
   "id": "30a4e089",
   "metadata": {},
   "outputs": [
    {
     "name": "stdout",
     "output_type": "stream",
     "text": [
      "Epoch 1/10\n",
      "311/311 [==============================] - 99s 311ms/step - loss: 2.5455 - mape: 18.0002 - val_loss: 1.2105 - val_mape: 12.7994\n",
      "Epoch 2/10\n",
      "311/311 [==============================] - 86s 276ms/step - loss: 1.1164 - mape: 12.5313 - val_loss: 1.1980 - val_mape: 12.4154\n",
      "Epoch 3/10\n",
      "311/311 [==============================] - 84s 271ms/step - loss: 0.9898 - mape: 11.8636 - val_loss: 1.2503 - val_mape: 13.0768\n",
      "Epoch 4/10\n",
      "311/311 [==============================] - 84s 270ms/step - loss: 0.8615 - mape: 10.9858 - val_loss: 1.2817 - val_mape: 12.6465\n",
      "Epoch 5/10\n",
      "311/311 [==============================] - 83s 268ms/step - loss: 0.7723 - mape: 10.4120 - val_loss: 1.3600 - val_mape: 13.2006\n",
      "Epoch 6/10\n",
      "311/311 [==============================] - 85s 273ms/step - loss: 0.6877 - mape: 9.8024 - val_loss: 1.5720 - val_mape: 15.1145\n",
      "Epoch 7/10\n",
      "311/311 [==============================] - 85s 273ms/step - loss: 0.6175 - mape: 9.2599 - val_loss: 1.4675 - val_mape: 14.1518\n",
      "Epoch 8/10\n",
      "311/311 [==============================] - 86s 276ms/step - loss: 0.5735 - mape: 8.9139 - val_loss: 1.5822 - val_mape: 14.3283\n",
      "Epoch 9/10\n",
      "311/311 [==============================] - 84s 270ms/step - loss: 0.5095 - mape: 8.2079 - val_loss: 1.6349 - val_mape: 14.2674\n",
      "Epoch 10/10\n",
      "311/311 [==============================] - 84s 271ms/step - loss: 0.4710 - mape: 7.8462 - val_loss: 1.6465 - val_mape: 14.2601\n",
      "\n",
      "Running Time:0:14:20.784527\n"
     ]
    }
   ],
   "source": [
    "start = timer()\n",
    "callbacks = keras.callbacks.ModelCheckpoint(\"int_1.keras\", save_best_only=True)\n",
    "history=model.fit([nlp_X_train, data_meta], Y_train.values, batch_size=32, epochs=10,validation_split=0.2,callbacks=callbacks)\n",
    "end = timer()\n",
    "print(f\"\\nRunning Time:{timedelta(seconds=end-start)}\")"
   ]
  },
  {
   "attachments": {},
   "cell_type": "markdown",
   "id": "cbf47b34",
   "metadata": {},
   "source": [
    "As you can see we have an overfit situation but thankfully we haave used callbacks for saving only best model as \"int_1.keras\"\n",
    "so this will save best validation loss score model."
   ]
  },
  {
   "cell_type": "code",
   "execution_count": 102,
   "id": "b00a2446",
   "metadata": {},
   "outputs": [
    {
     "name": "stdout",
     "output_type": "stream",
     "text": [
      "Minimum Validation Loss: 1.1980\n",
      "7.846245288848877\n"
     ]
    },
    {
     "data": {
      "text/plain": [
       "<AxesSubplot:>"
      ]
     },
     "execution_count": 102,
     "metadata": {},
     "output_type": "execute_result"
    },
    {
     "data": {
      "image/png": "[encoded data removed]",
      "text/plain": [
       "<Figure size 640x480 with 1 Axes>"
      ]
     },
     "metadata": {},
     "output_type": "display_data"
    },
    {
     "data": {
      "image/png": "[encoded data removed]",
      "text/plain": [
       "<Figure size 640x480 with 1 Axes>"
      ]
     },
     "metadata": {},
     "output_type": "display_data"
    }
   ],
   "source": [
    "history_df = pd.DataFrame(history.history)\n",
    "history_df.loc[:, ['mape', 'val_mape']].plot()\n",
    "print(\"Minimum Validation Loss: {:0.4f}\".format(history_df['val_loss'].min()));\n",
    "print(history_df[\"mape\"].min())\n",
    "history_df.loc[:, ['loss', 'val_loss']].plot()\n"
   ]
  },
  {
   "attachments": {},
   "cell_type": "markdown",
   "id": "598278dd",
   "metadata": {},
   "source": [
    "Evaluation of model Test-Train"
   ]
  },
  {
   "cell_type": "code",
   "execution_count": 126,
   "id": "3f1bc762",
   "metadata": {},
   "outputs": [
    {
     "name": "stdout",
     "output_type": "stream",
     "text": [
      "Train loss and mape:\n",
      "389/389 [==============================] - 18s 46ms/step - loss: 0.5823 - mape: 7.8257\n",
      "[0.5823395848274231, 7.82570743560791]\n",
      "Test loss and mape:\n",
      "98/98 [==============================] - 5s 46ms/step - loss: 1.6011 - mape: 14.0867\n",
      "[1.6010693311691284, 14.086682319641113]\n",
      "As you can see model overfits!\n"
     ]
    }
   ],
   "source": [
    "data_meta_test=X_test.iloc[:,:-1].values\n",
    "data_meta_test.shape\n",
    "print(\"Train loss and mape:\")\n",
    "print(model.evaluate([nlp_X_train, data_meta],Y_train.values))\n",
    "print(\"Test loss and mape:\")\n",
    "print(model.evaluate([nlp_X_test,data_meta_test],Y_test.values))\n",
    "print(\"As you can see model overfits!\")"
   ]
  },
  {
   "attachments": {},
   "cell_type": "markdown",
   "id": "fc0c5929",
   "metadata": {},
   "source": [
    "# Loading best model we have saved while we run model"
   ]
  },
  {
   "cell_type": "code",
   "execution_count": 127,
   "id": "f931eb64",
   "metadata": {},
   "outputs": [
    {
     "name": "stdout",
     "output_type": "stream",
     "text": [
      "Train loss and mape:\n",
      "389/389 [==============================] - 17s 44ms/step - loss: 0.9853 - mape: 11.1791\n",
      "[0.9852953553199768, 11.17906665802002]\n",
      "Test loss and mape:\n",
      "98/98 [==============================] - 4s 44ms/step - loss: 1.1766 - mape: 12.2741\n",
      "[1.176567554473877, 12.274055480957031]\n",
      "This seem pretty stable and not overfits as model before!\n"
     ]
    }
   ],
   "source": [
    "mdl_new = keras.models.load_model(\"int_1.keras\")\n",
    "print(\"Train loss and mape:\")\n",
    "print(mdl_new.evaluate([nlp_X_train, data_meta],Y_train.values))\n",
    "print(\"Test loss and mape:\")\n",
    "print(mdl_new.evaluate([nlp_X_test,data_meta_test],Y_test.values))\n",
    "print(\"This seem pretty stable and not overfits as model before!\")"
   ]
  },
  {
   "attachments": {},
   "cell_type": "markdown",
   "id": "e764338a",
   "metadata": {},
   "source": [
    "Visualizing our outputs, comparing them with acutal data"
   ]
  },
  {
   "cell_type": "code",
   "execution_count": 125,
   "id": "496c4e74",
   "metadata": {
    "scrolled": false
   },
   "outputs": [
    {
     "data": {
      "text/plain": [
       "<matplotlib.legend.Legend at 0x1ba93320f08>"
      ]
     },
     "execution_count": 125,
     "metadata": {},
     "output_type": "execute_result"
    },
    {
     "data": {
      "image/png": "[encoded data removed]",
      "text/plain": [
       "<Figure size 640x480 with 1 Axes>"
      ]
     },
     "metadata": {},
     "output_type": "display_data"
    }
   ],
   "source": [
    "predicted=mdl_new.predict([nlp_X_train, data_meta])\n",
    "plt.plot(predicted,\"b\",label=\"predicted\")\n",
    "plt.plot(Y_train.values,\"g\",label = \"actual\")\n",
    "plt.fill_between(np.arange(Y_train.values.shape[0]),predicted.squeeze(),Y_train.values,color = \"orange\")\n",
    "plt.xlim(400,450)\n",
    "plt.legend()"
   ]
  },
  {
   "attachments": {},
   "cell_type": "markdown",
   "id": "9155ec7d",
   "metadata": {},
   "source": [
    "#  Visualization of Our Neural Network"
   ]
  },
  {
   "cell_type": "code",
   "execution_count": 128,
   "id": "829093ca",
   "metadata": {},
   "outputs": [
    {
     "data": {
      "image/png": "[encoded data removed]",
      "text/plain": [
       "<IPython.core.display.Image object>"
      ]
     },
     "execution_count": 128,
     "metadata": {},
     "output_type": "execute_result"
    }
   ],
   "source": [
    "tf.keras.utils.plot_model(\n",
    "model,\n",
    "to_file=\"model.png\",\n",
    "show_shapes=True,\n",
    "show_dtype=False,\n",
    "show_layer_names=True,\n",
    "rankdir=\"TB\",\n",
    "expand_nested=True,\n",
    "dpi=96,\n",
    "layer_range=None,\n",
    "show_layer_activations=True,\n",
    ")"
   ]
  }
 ],
 "metadata": {
  "kernelspec": {
   "display_name": "Python 3 (ipykernel)",
   "language": "python",
   "name": "python3"
  },
  "language_info": {
   "codemirror_mode": {
    "name": "ipython",
    "version": 3
   },
   "file_extension": ".py",
   "mimetype": "text/x-python",
   "name": "python",
   "nbconvert_exporter": "python",
   "pygments_lexer": "ipython3",
   "version": "3.7.16"
  }
 },
 "nbformat": 4,
 "nbformat_minor": 5
}
